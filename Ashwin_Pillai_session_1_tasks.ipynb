{
  "nbformat": 4,
  "nbformat_minor": 0,
  "metadata": {
    "colab": {
      "provenance": [],
      "include_colab_link": true
    },
    "kernelspec": {
      "name": "python3",
      "display_name": "Python 3"
    },
    "language_info": {
      "name": "python"
    }
  },
  "cells": [
    {
      "cell_type": "markdown",
      "metadata": {
        "id": "view-in-github",
        "colab_type": "text"
      },
      "source": [
        "<a href=\"https://colab.research.google.com/github/Ashwin-ap/API/blob/master/Ashwin_Pillai_session_1_tasks.ipynb\" target=\"_parent\"><img src=\"https://colab.research.google.com/assets/colab-badge.svg\" alt=\"Open In Colab\"/></a>"
      ]
    },
    {
      "cell_type": "markdown",
      "source": [
        "# Task : Session 1\n",
        "Solve these questions own your own and try to test yourself what you have learned in the session.\n",
        "\n",
        "Happy Learning!"
      ],
      "metadata": {
        "id": "A05OG15VqOPF"
      }
    },
    {
      "cell_type": "markdown",
      "source": [
        "### Q1 :- Print the given strings as per stated format.\n",
        "\n",
        "**Given strings**:\n",
        "```\n",
        "\"Data\" \"Science\" \"Mentorship\" \"Program\"\n",
        "\"By\" \"CampusX\"\n",
        "```\n",
        "**Output**:\n",
        "```\n",
        "Data-Science-Mentorship-Program-started-By-CampusX\n",
        "```\n",
        "\n",
        "Concept- [Seperator and End]"
      ],
      "metadata": {
        "id": "2doIXf8bqe9_"
      }
    },
    {
      "cell_type": "code",
      "source": [
        "# Write your code here'\n",
        "print(\"Data\",\"Science\",\"Mentorship\",\"Program\",\"By\",\"CampusX\", sep='-')"
      ],
      "metadata": {
        "id": "-em6d3KErDtp",
        "colab": {
          "base_uri": "https://localhost:8080/"
        },
        "outputId": "f28f5ca0-1c1c-4e92-8173-e1187f55d5c4"
      },
      "execution_count": 1,
      "outputs": [
        {
          "output_type": "stream",
          "name": "stdout",
          "text": [
            "Data-Science-Mentorship-Program-By-CampusX\n"
          ]
        }
      ]
    },
    {
      "cell_type": "markdown",
      "source": [
        "### Q2:- Write a program that will convert celsius value to fahrenheit."
      ],
      "metadata": {
        "id": "1KUpN7ZTrC3_"
      }
    },
    {
      "cell_type": "code",
      "source": [
        "# Write your code here\n",
        "celsius = float(input(\"Enter temperature in Celsius: \"))\n",
        "fahrenheit = (celsius * 9/5) + 32\n",
        "print('%.2f Celsius is: %0.2f Fahrenheit' %(celsius, fahrenheit))"
      ],
      "metadata": {
        "id": "yxKYhYQiqWfj",
        "colab": {
          "base_uri": "https://localhost:8080/"
        },
        "outputId": "55933c64-7a3e-4181-e121-d85a7f3dfe13"
      },
      "execution_count": 3,
      "outputs": [
        {
          "output_type": "stream",
          "name": "stdout",
          "text": [
            "Enter temperature in Celsius: 100\n",
            "100.00 Celsius is: 212.00 Fahrenheit\n"
          ]
        }
      ]
    },
    {
      "cell_type": "markdown",
      "source": [
        "### Q3:- Take 2 numbers as input from the user.Write a program to swap the numbers without using any special python syntax."
      ],
      "metadata": {
        "id": "RLrOBBJurLB2"
      }
    },
    {
      "cell_type": "code",
      "source": [
        "# Write your code here\n",
        "a = int(input((\"Enter num1:\")))\n",
        "b = int(input(\"Enter num2:\"))\n",
        "temp = a\n",
        "a = b\n",
        "b = temp\n",
        "print(f\"num 1: {a}\")\n",
        "print(f\"num 2 : {b}\")"
      ],
      "metadata": {
        "id": "yPn7if0TrJ4F",
        "colab": {
          "base_uri": "https://localhost:8080/"
        },
        "outputId": "ef1433ca-c219-421b-c01a-6b72f05b4af7"
      },
      "execution_count": 7,
      "outputs": [
        {
          "output_type": "stream",
          "name": "stdout",
          "text": [
            "Enter num1:1\n",
            "Enter num2:5\n",
            "num 1: 5\n",
            "num 2 : 1\n"
          ]
        }
      ]
    },
    {
      "cell_type": "markdown",
      "source": [
        "### Q4:- Write a program to find the euclidean distance between two coordinates.Take both the coordinates from the user as input."
      ],
      "metadata": {
        "id": "waLCP1bjr7ML"
      }
    },
    {
      "cell_type": "code",
      "source": [
        "import math\n",
        "\n",
        "x1 = float(input(\"Enter x-coordinate of the first point: \"))\n",
        "y1 = float(input(\"Enter y-coordinate of the first point: \"))\n",
        "\n",
        "x2 = float(input(\"Enter x-coordinate of the second point: \"))\n",
        "y2 = float(input(\"Enter y-coordinate of the second point: \"))\n",
        "\n",
        "distance = math.sqrt((x2 - x1) ** 2 + (y2 - y1) ** 2)\n",
        "print(f\"The Euclidean distance between ({x1}, {y1}) and ({x2}, {y2}) is: {distance:.2f}\")\n"
      ],
      "metadata": {
        "id": "Pl1Sv-xnrxnH",
        "colab": {
          "base_uri": "https://localhost:8080/"
        },
        "outputId": "78819ec2-12b5-4f8b-9b3e-cdbbf3364cdd"
      },
      "execution_count": 18,
      "outputs": [
        {
          "output_type": "stream",
          "name": "stdout",
          "text": [
            "Enter x-coordinate of the first point: 1\n",
            "Enter y-coordinate of the first point: 2\n",
            "Enter x-coordinate of the second point: 4\n",
            "Enter y-coordinate of the second point: 6\n",
            "The Euclidean distance between (1.0, 2.0) and (4.0, 6.0) is: 5.00\n"
          ]
        }
      ]
    },
    {
      "cell_type": "markdown",
      "source": [
        "### Q5:- Write a program to find the simple interest when the value of principle,rate of interest and time period is provided by the user.\n"
      ],
      "metadata": {
        "id": "VLrhg-FRsHjR"
      }
    },
    {
      "cell_type": "code",
      "source": [
        "# Write your code here\n",
        "\n",
        "principal = float(input(\"Enter the principal amount: \"))\n",
        "rate = float(input(\"Enter the rate of interest (in %): \"))\n",
        "time = float(input(\"Enter the time period (in years): \"))\n",
        "\n",
        "simple_interest = (principal * rate * time) / 100\n",
        "print(f\"The Simple Interest is: {simple_interest:.2f}\")\n"
      ],
      "metadata": {
        "id": "s40DlReZsTmY",
        "colab": {
          "base_uri": "https://localhost:8080/"
        },
        "outputId": "edcc156e-dae3-432c-9394-650cb96b353b"
      },
      "execution_count": 10,
      "outputs": [
        {
          "output_type": "stream",
          "name": "stdout",
          "text": [
            "Enter the principal amount: 10000\n",
            "Enter the rate of interest (in %): 12\n",
            "Enter the time period (in years): 4\n",
            "The Simple Interest is: 4800.00\n"
          ]
        }
      ]
    },
    {
      "cell_type": "markdown",
      "source": [
        "### Q6:- Write a program that will tell the number of dogs and chicken are there when the user will provide the value of total heads and legs.\n",
        "\n",
        "For example:\n",
        "Input:\n",
        "heads -> 4\n",
        "legs -> 12\n",
        "<br>\n",
        "Output:\n",
        "dogs -> 2\n",
        "chicken -> 2\n",
        "\n",
        "\n",
        "\n"
      ],
      "metadata": {
        "id": "LMy0BTUktYKa"
      }
    },
    {
      "cell_type": "code",
      "source": [
        "# Write your code here\n",
        "total_heads = int(input(\"Enter the total number of heads: \"))\n",
        "total_legs = int(input(\"Enter the total number of legs: \"))\n",
        "\n",
        "if (total_legs - 2 * total_heads) % 2 != 0 or (total_legs < 2 * total_heads):\n",
        "    print(\"No solution\")\n",
        "else:\n",
        "    dogs = (total_legs - 2 * total_heads) // 2\n",
        "    chickens = total_heads - dogs\n",
        "\n",
        "    print(f\"Dogs: {dogs}\")\n",
        "    print(f\"Chickens: {chickens}\")\n"
      ],
      "metadata": {
        "id": "XSBvJoA4tXaG",
        "colab": {
          "base_uri": "https://localhost:8080/"
        },
        "outputId": "00f1322d-d08d-4ce2-c6fb-e308406ab8dd"
      },
      "execution_count": 12,
      "outputs": [
        {
          "output_type": "stream",
          "name": "stdout",
          "text": [
            "Enter the total number of heads: 4\n",
            "Enter the total number of legs: 12\n",
            "Dogs: 2\n",
            "Chickens: 2\n"
          ]
        }
      ]
    },
    {
      "cell_type": "markdown",
      "source": [
        "### Q7:- Write a program to find the sum of squares of first n natural numbers where n will be provided by the user."
      ],
      "metadata": {
        "id": "gJ7C5kZYt4BP"
      }
    },
    {
      "cell_type": "code",
      "source": [
        "# Write your code here\n",
        "n = int(input(\"Enter a positive integer n: \"))\n",
        "sum_of_squares = 0\n",
        "\n",
        "for i in range(1, n+1):\n",
        "    sum_of_squares += i**2\n",
        "\n",
        "print(f\"The sum of squares of first {n} natural numbers is: {sum_of_squares}\")\n"
      ],
      "metadata": {
        "id": "_tHsmEHzt2nX",
        "colab": {
          "base_uri": "https://localhost:8080/"
        },
        "outputId": "d236b452-8522-44e4-c92a-af6a9f9432ba"
      },
      "execution_count": 13,
      "outputs": [
        {
          "output_type": "stream",
          "name": "stdout",
          "text": [
            "Enter a positive integer n: 6\n",
            "The sum of squares of first 6 natural numbers is: 91\n"
          ]
        }
      ]
    },
    {
      "cell_type": "markdown",
      "source": [
        "### Q8:- Given the first 2 terms of an Arithmetic Series.Find the Nth term of the series. Assume all inputs are provided by the user."
      ],
      "metadata": {
        "id": "FHrMM7g-yG1h"
      }
    },
    {
      "cell_type": "code",
      "source": [
        "# Write your code here\n",
        "a1 = float(input(\"Enter the first term (a1): \"))\n",
        "a2 = float(input(\"Enter the second term (a2): \"))\n",
        "N = int(input(\"Enter the term number (N): \"))\n",
        "d = a2 - a1\n",
        "aN = a1 + (N - 1) * d\n",
        "\n",
        "print(f\"The {N}th term of the arithmetic series is: {aN}\")\n"
      ],
      "metadata": {
        "id": "go4_kmZmyVSx",
        "colab": {
          "base_uri": "https://localhost:8080/"
        },
        "outputId": "8fb2f9f6-9133-46c6-f656-dd6da50a549f"
      },
      "execution_count": 14,
      "outputs": [
        {
          "output_type": "stream",
          "name": "stdout",
          "text": [
            "Enter the first term (a1): 3\n",
            "Enter the second term (a2): 7\n",
            "Enter the term number (N): 5\n",
            "The 5th term of the arithmetic series is: 19.0\n"
          ]
        }
      ]
    },
    {
      "cell_type": "markdown",
      "source": [
        "### Q9:- Given 2 fractions, find the sum of those 2 fractions.Take the numerator and denominator values of the fractions from the user."
      ],
      "metadata": {
        "id": "QgyRX_es1oum"
      }
    },
    {
      "cell_type": "code",
      "source": [
        "# Write your code here\n",
        "# Input: Numerators and denominators of the fractions\n",
        "num1 = int(input(\"Enter the numerator of the first fraction: \"))\n",
        "den1 = int(input(\"Enter the denominator of the first fraction: \"))\n",
        "num2 = int(input(\"Enter the numerator of the second fraction: \"))\n",
        "den2 = int(input(\"Enter the denominator of the second fraction: \"))\n",
        "\n",
        "numerator_sum = num1 * den2 + num2 * den1\n",
        "denominator_sum = den1 * den2\n",
        "a, b = numerator_sum, denominator_sum\n",
        "while b:\n",
        "    a, b = b, a % b\n",
        "\n",
        "result_num = numerator_sum // a\n",
        "result_den = denominator_sum // a\n",
        "\n",
        "print(f\"The sum of {num1}/{den1} and {num2}/{den2} is: {result_num}/{result_den}\")\n"
      ],
      "metadata": {
        "id": "X05xqFS1yW16",
        "colab": {
          "base_uri": "https://localhost:8080/"
        },
        "outputId": "a665dd44-66d7-46f9-90c5-60e607708232"
      },
      "execution_count": 15,
      "outputs": [
        {
          "output_type": "stream",
          "name": "stdout",
          "text": [
            "Enter the numerator of the first fraction: 2\n",
            "Enter the denominator of the first fraction: 3\n",
            "Enter the numerator of the second fraction: 5\n",
            "Enter the denominator of the second fraction: 6\n",
            "The sum of 2/3 and 5/6 is: 3/2\n"
          ]
        }
      ]
    },
    {
      "cell_type": "markdown",
      "source": [
        "### Q10:- Given the height, width and breadth of a milk tank, you have to find out how many glasses of milk can be obtained? Assume all the inputs are provided by the user.\n",
        "\n",
        "\n",
        "\n",
        "Input:<br>\n",
        "Dimensions of the milk tank<br>\n",
        "H = 20cm, L = 20cm, B = 20cm\n",
        "<br><br>\n",
        "Dimensions of the glass<br>\n",
        "h = 3cm, r = 1cm"
      ],
      "metadata": {
        "id": "eaql38ln13u7"
      }
    },
    {
      "cell_type": "code",
      "source": [
        "# Write your code here\n",
        "import math\n",
        "\n",
        "H = float(input(\"Enter the height of the milk tank (in cm): \"))\n",
        "L = float(input(\"Enter the length of the milk tank (in cm): \"))\n",
        "B = float(input(\"Enter the breadth of the milk tank (in cm): \"))\n",
        "\n",
        "h = float(input(\"Enter the height of the glass (in cm): \"))\n",
        "r = float(input(\"Enter the radius of the base of the glass (in cm): \"))\n",
        "\n",
        "#milk tank volume\n",
        "V_tank = H * L * B\n",
        "\n",
        "#glass volume\n",
        "V_glass = math.pi * r**2 * h\n",
        "num_glasses = int(V_tank // V_glass)\n",
        "\n",
        "print(f\"The number of glasses of milk that can be obtained is: {num_glasses}\")\n"
      ],
      "metadata": {
        "id": "FePZqno74eWv",
        "colab": {
          "base_uri": "https://localhost:8080/"
        },
        "outputId": "21e92f4c-9c4f-463e-fefc-2be4f3481933"
      },
      "execution_count": 16,
      "outputs": [
        {
          "output_type": "stream",
          "name": "stdout",
          "text": [
            "Enter the height of the milk tank (in cm): 20\n",
            "Enter the length of the milk tank (in cm): 20\n",
            "Enter the breadth of the milk tank (in cm): 20\n",
            "Enter the height of the glass (in cm): 3\n",
            "Enter the radius of the base of the glass (in cm): 1\n",
            "The number of glasses of milk that can be obtained is: 848\n"
          ]
        }
      ]
    },
    {
      "cell_type": "code",
      "source": [],
      "metadata": {
        "id": "FuRVbSxOi8EU"
      },
      "execution_count": null,
      "outputs": []
    }
  ]
}