{
  "nbformat": 4,
  "nbformat_minor": 0,
  "metadata": {
    "colab": {
      "provenance": [],
      "authorship_tag": "ABX9TyMn6ReAI2WLGgZGwPvJH2En",
      "include_colab_link": true
    },
    "kernelspec": {
      "name": "python3",
      "display_name": "Python 3"
    },
    "language_info": {
      "name": "python"
    }
  },
  "cells": [
    {
      "cell_type": "markdown",
      "metadata": {
        "id": "view-in-github",
        "colab_type": "text"
      },
      "source": [
        "<a href=\"https://colab.research.google.com/github/Ashwin-ap/API/blob/master/TimeSeriesAnalysis.ipynb\" target=\"_parent\"><img src=\"https://colab.research.google.com/assets/colab-badge.svg\" alt=\"Open In Colab\"/></a>"
      ]
    },
    {
      "cell_type": "code",
      "execution_count": 2,
      "metadata": {
        "id": "6LFPdLc1DSgx"
      },
      "outputs": [],
      "source": [
        "import pandas as pd\n",
        "import datetime as dt"
      ]
    },
    {
      "cell_type": "code",
      "source": [
        "date = pd.datetime(2024,7,7,1,34,8)"
      ],
      "metadata": {
        "colab": {
          "base_uri": "https://localhost:8080/"
        },
        "id": "8-aZyI0-DWdf",
        "outputId": "aad2a260-3634-4c23-a239-e0e6e3a9637c"
      },
      "execution_count": 3,
      "outputs": [
        {
          "output_type": "stream",
          "name": "stderr",
          "text": [
            "<ipython-input-3-6d25198b5f0d>:1: FutureWarning: The pandas.datetime class is deprecated and will be removed from pandas in a future version. Import from datetime module instead.\n",
            "  date = pd.datetime(2024,7,7,1,34,8)\n"
          ]
        }
      ]
    },
    {
      "cell_type": "code",
      "source": [
        "print(date.month)"
      ],
      "metadata": {
        "colab": {
          "base_uri": "https://localhost:8080/"
        },
        "id": "-X1PH1m6Dhmu",
        "outputId": "acfcebb2-6235-405f-db83-f8693e90a7eb"
      },
      "execution_count": 4,
      "outputs": [
        {
          "output_type": "stream",
          "name": "stdout",
          "text": [
            "7\n"
          ]
        }
      ]
    },
    {
      "cell_type": "code",
      "source": [
        "print(date.year)"
      ],
      "metadata": {
        "colab": {
          "base_uri": "https://localhost:8080/"
        },
        "id": "9zQ9d0C_DjYU",
        "outputId": "8d459fc1-5363-4e9e-d531-98f07f506f96"
      },
      "execution_count": 5,
      "outputs": [
        {
          "output_type": "stream",
          "name": "stdout",
          "text": [
            "2024\n"
          ]
        }
      ]
    },
    {
      "cell_type": "code",
      "source": [
        "df = pd.DataFrame({'A': [1, 2, 3, 4]}, index=pd.DatetimeIndex(['2022-01-03', '2023-03-07', '2024-08-21', '2023-03-07']))"
      ],
      "metadata": {
        "id": "yZu_v7kzD1mS"
      },
      "execution_count": 17,
      "outputs": []
    },
    {
      "cell_type": "code",
      "source": [
        "print(df)"
      ],
      "metadata": {
        "colab": {
          "base_uri": "https://localhost:8080/"
        },
        "id": "Gq9bMcSREv9d",
        "outputId": "b3251b5e-a81a-4faf-a8c3-3080fe4c526a"
      },
      "execution_count": 11,
      "outputs": [
        {
          "output_type": "stream",
          "name": "stdout",
          "text": [
            "            A\n",
            "2022-01-03  1\n",
            "2023-03-07  2\n",
            "2024-08-21  3\n"
          ]
        }
      ]
    },
    {
      "cell_type": "code",
      "source": [
        "si = df.shift(periods=1)\n",
        "print(si)"
      ],
      "metadata": {
        "colab": {
          "base_uri": "https://localhost:8080/"
        },
        "id": "4pPOyGBIEjdI",
        "outputId": "f9c25b62-fac7-4644-d474-da47d9dcb479"
      },
      "execution_count": 12,
      "outputs": [
        {
          "output_type": "stream",
          "name": "stdout",
          "text": [
            "              A\n",
            "2022-01-03  NaN\n",
            "2023-03-07  1.0\n",
            "2024-08-21  2.0\n"
          ]
        }
      ]
    },
    {
      "cell_type": "code",
      "source": [
        "df['lagged'] = df['A'].shift(periods=1)\n",
        "print(df)"
      ],
      "metadata": {
        "colab": {
          "base_uri": "https://localhost:8080/"
        },
        "id": "sdobqj6EE6Ny",
        "outputId": "cfc6e01d-00d2-4276-d7a0-d3adf1739875"
      },
      "execution_count": 13,
      "outputs": [
        {
          "output_type": "stream",
          "name": "stdout",
          "text": [
            "            A  lagged\n",
            "2022-01-03  1     NaN\n",
            "2023-03-07  2     1.0\n",
            "2024-08-21  3     2.0\n"
          ]
        }
      ]
    },
    {
      "cell_type": "code",
      "source": [
        "res = df.resample('M').sum()\n",
        "print(res)"
      ],
      "metadata": {
        "colab": {
          "base_uri": "https://localhost:8080/"
        },
        "id": "yMTj5IbbFB0F",
        "outputId": "dd3780b4-9993-4725-f27d-9ac8cea3a242"
      },
      "execution_count": 18,
      "outputs": [
        {
          "output_type": "stream",
          "name": "stdout",
          "text": [
            "            A\n",
            "2022-01-31  1\n",
            "2022-02-28  0\n",
            "2022-03-31  0\n",
            "2022-04-30  0\n",
            "2022-05-31  0\n",
            "2022-06-30  0\n",
            "2022-07-31  0\n",
            "2022-08-31  0\n",
            "2022-09-30  0\n",
            "2022-10-31  0\n",
            "2022-11-30  0\n",
            "2022-12-31  0\n",
            "2023-01-31  0\n",
            "2023-02-28  0\n",
            "2023-03-31  6\n",
            "2023-04-30  0\n",
            "2023-05-31  0\n",
            "2023-06-30  0\n",
            "2023-07-31  0\n",
            "2023-08-31  0\n",
            "2023-09-30  0\n",
            "2023-10-31  0\n",
            "2023-11-30  0\n",
            "2023-12-31  0\n",
            "2024-01-31  0\n",
            "2024-02-29  0\n",
            "2024-03-31  0\n",
            "2024-04-30  0\n",
            "2024-05-31  0\n",
            "2024-06-30  0\n",
            "2024-07-31  0\n",
            "2024-08-31  3\n"
          ]
        }
      ]
    },
    {
      "cell_type": "code",
      "source": [
        "#Time Decomposition"
      ],
      "metadata": {
        "id": "sVMK_cO6FHe4"
      },
      "execution_count": 19,
      "outputs": []
    },
    {
      "cell_type": "code",
      "source": [
        "import numpy as np"
      ],
      "metadata": {
        "id": "cAvwKs2VOQd1"
      },
      "execution_count": 20,
      "outputs": []
    },
    {
      "cell_type": "code",
      "source": [
        "dates = pd.date_range(start='2024-01-01', end='2024-03-31')\n",
        "values = np.random.randint(low=1, high=100, size=len(dates))"
      ],
      "metadata": {
        "id": "X22sb8tgOhh2"
      },
      "execution_count": 21,
      "outputs": []
    },
    {
      "cell_type": "code",
      "source": [
        "df = pd.DataFrame({'date': dates, 'value': values})\n",
        "df = df.set_index('date')"
      ],
      "metadata": {
        "id": "OD3635EhOulz"
      },
      "execution_count": 22,
      "outputs": []
    },
    {
      "cell_type": "code",
      "source": [
        "print(df)"
      ],
      "metadata": {
        "colab": {
          "base_uri": "https://localhost:8080/"
        },
        "id": "JeGCf1nRO553",
        "outputId": "be8c850d-e02d-4d2d-e6db-b8dcaf37480a"
      },
      "execution_count": 23,
      "outputs": [
        {
          "output_type": "stream",
          "name": "stdout",
          "text": [
            "            value\n",
            "date             \n",
            "2024-01-01     78\n",
            "2024-01-02     36\n",
            "2024-01-03     95\n",
            "2024-01-04     15\n",
            "2024-01-05     34\n",
            "...           ...\n",
            "2024-03-27     56\n",
            "2024-03-28     72\n",
            "2024-03-29     42\n",
            "2024-03-30     87\n",
            "2024-03-31     75\n",
            "\n",
            "[91 rows x 1 columns]\n"
          ]
        }
      ]
    },
    {
      "cell_type": "code",
      "source": [
        "from statsmodels.tsa.seasonal import seasonal_decompose"
      ],
      "metadata": {
        "id": "_CuxGawfO7C_"
      },
      "execution_count": 24,
      "outputs": []
    },
    {
      "cell_type": "code",
      "source": [
        "decomposition = seasonal_decompose(df['value'], period=7)"
      ],
      "metadata": {
        "id": "7Gp_8hKCPHud"
      },
      "execution_count": 25,
      "outputs": []
    },
    {
      "cell_type": "code",
      "source": [
        "df['trend'] = decomposition.trend\n",
        "df['seasonal'] = decomposition.seasonal\n",
        "df['residual'] = decomposition.resid"
      ],
      "metadata": {
        "id": "tYWQwmjOPOGo"
      },
      "execution_count": 27,
      "outputs": []
    },
    {
      "cell_type": "code",
      "source": [
        "print(df)"
      ],
      "metadata": {
        "colab": {
          "base_uri": "https://localhost:8080/"
        },
        "id": "vMBnSNKSPjjv",
        "outputId": "58e2c97f-1fa6-4ac2-8783-7cbb2ef95f3a"
      },
      "execution_count": 28,
      "outputs": [
        {
          "output_type": "stream",
          "name": "stdout",
          "text": [
            "            value      trend   seasonal   residual\n",
            "date                                              \n",
            "2024-01-01     78        NaN   6.843407        NaN\n",
            "2024-01-02     36        NaN   4.164835        NaN\n",
            "2024-01-03     95        NaN  -7.870879        NaN\n",
            "2024-01-04     15  43.000000  -5.655678 -22.344322\n",
            "2024-01-05     34  45.428571   4.771978 -16.200549\n",
            "...           ...        ...        ...        ...\n",
            "2024-03-27     56  55.714286  -7.870879   8.156593\n",
            "2024-03-28     72  56.714286  -5.655678  20.941392\n",
            "2024-03-29     42        NaN   4.771978        NaN\n",
            "2024-03-30     87        NaN -14.442308        NaN\n",
            "2024-03-31     75        NaN  12.188645        NaN\n",
            "\n",
            "[91 rows x 4 columns]\n"
          ]
        }
      ]
    },
    {
      "cell_type": "code",
      "source": [
        "#Time Series Forecasting\n",
        "#ARIMA - doesn't make seasonal component\n",
        "#SARIMA = does have seasonal component"
      ],
      "metadata": {
        "id": "94K2m9ItPsPb"
      },
      "execution_count": 29,
      "outputs": []
    },
    {
      "cell_type": "code",
      "source": [
        "#(1,1,1) - auto-regression, integration, moving average"
      ],
      "metadata": {
        "id": "QXCHWTwLP5jH"
      },
      "execution_count": 30,
      "outputs": []
    },
    {
      "cell_type": "code",
      "source": [
        "dates = pd.date_range(start='2024-01-01', end='2024-03-31')\n",
        "values = np.random.randint(low=1, high=100, size=len(dates))\n",
        "df = pd.DataFrame({'date': dates, 'value': values})\n",
        "df = df.set_index('date')\n",
        "print(df)"
      ],
      "metadata": {
        "colab": {
          "base_uri": "https://localhost:8080/"
        },
        "id": "jU1c7ZUmQTA6",
        "outputId": "7f02dcb5-465c-4e1d-f07d-231c1440ad78"
      },
      "execution_count": 31,
      "outputs": [
        {
          "output_type": "stream",
          "name": "stdout",
          "text": [
            "            value\n",
            "date             \n",
            "2024-01-01      9\n",
            "2024-01-02     87\n",
            "2024-01-03     17\n",
            "2024-01-04     23\n",
            "2024-01-05     31\n",
            "...           ...\n",
            "2024-03-27     73\n",
            "2024-03-28      9\n",
            "2024-03-29     40\n",
            "2024-03-30      9\n",
            "2024-03-31     59\n",
            "\n",
            "[91 rows x 1 columns]\n"
          ]
        }
      ]
    },
    {
      "cell_type": "code",
      "source": [
        "#ARIMA\n",
        "from statsmodels.tsa.arima.model import ARIMA\n",
        "\n",
        "#fitting\n",
        "model = ARIMA(df['value'], order=(1,1,1))\n",
        "model_fit = model.fit()\n",
        "\n",
        "#7 day forecast\n",
        "forecast = model_fit.forecast(steps=7)\n",
        "print(forecast)"
      ],
      "metadata": {
        "colab": {
          "base_uri": "https://localhost:8080/"
        },
        "id": "I7LOsP_8QGzU",
        "outputId": "9ab15eff-4887-4d1b-b961-6141dad3825b"
      },
      "execution_count": 32,
      "outputs": [
        {
          "output_type": "stream",
          "name": "stderr",
          "text": [
            "/usr/local/lib/python3.10/dist-packages/statsmodels/tsa/base/tsa_model.py:473: ValueWarning: No frequency information was provided, so inferred frequency D will be used.\n",
            "  self._init_dates(dates, freq)\n"
          ]
        },
        {
          "output_type": "stream",
          "name": "stdout",
          "text": [
            "2024-04-01    46.821439\n",
            "2024-04-02    46.118561\n",
            "2024-04-03    46.077995\n",
            "2024-04-04    46.075654\n",
            "2024-04-05    46.075519\n",
            "2024-04-06    46.075511\n",
            "2024-04-07    46.075510\n",
            "Freq: D, Name: predicted_mean, dtype: float64\n"
          ]
        }
      ]
    },
    {
      "cell_type": "code",
      "source": [
        "#SARIMA\n",
        "from statsmodels.tsa.statespace.sarimax import SARIMAX\n",
        "\n",
        "model = SARIMAX(df['value'], order=(1,1,1), seasonal_order=(1,1,1,7))\n",
        "model_fit = model.fit()\n",
        "\n",
        "#7-day forecast\n",
        "forecast = model_fit.forecast(steps=7)\n",
        "print(forecast)"
      ],
      "metadata": {
        "colab": {
          "base_uri": "https://localhost:8080/"
        },
        "id": "w2n2CETEQm7F",
        "outputId": "406909d3-8891-4237-89c1-f2c4c7e64f6f"
      },
      "execution_count": 33,
      "outputs": [
        {
          "output_type": "stream",
          "name": "stderr",
          "text": [
            "/usr/local/lib/python3.10/dist-packages/statsmodels/tsa/base/tsa_model.py:473: ValueWarning: No frequency information was provided, so inferred frequency D will be used.\n",
            "  self._init_dates(dates, freq)\n"
          ]
        },
        {
          "output_type": "stream",
          "name": "stdout",
          "text": [
            "2024-04-01    35.181248\n",
            "2024-04-02    45.271454\n",
            "2024-04-03    34.390538\n",
            "2024-04-04    54.119662\n",
            "2024-04-05    35.327129\n",
            "2024-04-06    54.746684\n",
            "2024-04-07    30.254332\n",
            "Freq: D, Name: predicted_mean, dtype: float64\n"
          ]
        }
      ]
    },
    {
      "cell_type": "code",
      "source": [
        "#THANK YOU :)"
      ],
      "metadata": {
        "id": "F6Jr-GM7RC7t"
      },
      "execution_count": 34,
      "outputs": []
    },
    {
      "cell_type": "code",
      "source": [],
      "metadata": {
        "id": "KDD2KX5cSDvL"
      },
      "execution_count": null,
      "outputs": []
    }
  ]
}